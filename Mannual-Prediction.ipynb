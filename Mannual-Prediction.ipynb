{
 "cells": [
  {
   "cell_type": "code",
   "execution_count": 1,
   "id": "ace8926f",
   "metadata": {},
   "outputs": [],
   "source": [
    "from tensorflow.keras import models\n",
    "import tensorflow as tf\n",
    "import os\n",
    "import numpy as np\n",
    "import cv2"
   ]
  },
  {
   "cell_type": "code",
   "execution_count": 2,
   "id": "718c0119",
   "metadata": {},
   "outputs": [
    {
     "data": {
      "text/plain": [
       "<tensorflow.python.keras.engine.functional.Functional at 0x263448e3f10>"
      ]
     },
     "execution_count": 2,
     "metadata": {},
     "output_type": "execute_result"
    }
   ],
   "source": [
    "model = models.load_model('./Asl-Classifier2.h5')\n",
    "model"
   ]
  },
  {
   "cell_type": "code",
   "execution_count": 12,
   "id": "d0612341",
   "metadata": {},
   "outputs": [],
   "source": [
    "def predict(model, img_path):\n",
    "    if os.path.isfile(img_path):\n",
    "        img = cv2.imread(img_path)\n",
    "        img = cv2.cvtColor(img, cv2.COLOR_BGR2RGB)\n",
    "        img = cv2.resize(img, (224, 224))\n",
    "#         img = tf.keras.applications.mobilenet.preprocess_input(img)\n",
    "        img = np.expand_dims(img, axis = 0)\n",
    "        if model:\n",
    "            classes = np.array(['A', 'B', 'C', 'D', 'E', 'F', 'G', 'H', 'I', 'J', 'K', 'L', 'M', \n",
    "                       'N', 'O', 'P', 'Q', 'R', 'S', 'T', 'U', 'V', 'W', 'X', 'Y', 'Z',\n",
    "                       'del', 'nothing', 'space'])\n",
    "            prediction = classes[np.argmax(model.predict(img, verbose = 0), axis = 1)][0]\n",
    "            return prediction\n",
    "        else:\n",
    "            return print('Model doesn\\'t exist, please check the input')\n",
    "    else:\n",
    "       return print('Image doesn\\'t exist at the given path, please check the input')\n",
    "        "
   ]
  },
  {
   "cell_type": "code",
   "execution_count": 13,
   "id": "d9d2d713",
   "metadata": {},
   "outputs": [],
   "source": [
    "prediction = predict(model, './data/asl-alphabet/asl_alphabet_test/M_test.jpg')\n",
    "if prediction == 'M':\n",
    "#     application = r'\"\"C:\\Users\\ASUS\\AppData\\Roaming\\Microsoft\\Windows\\Start Menu\\Programs\\Microsoft Teams.lnk\"\"'\n",
    "    application = r'C:\\Program Files\\BraveSoftware\\Brave-Browser\\Application\\brave.exe'\n",
    "    os.startfile(application)\n",
    "else:\n",
    "    print(\"Error\")"
   ]
  },
  {
   "cell_type": "code",
   "execution_count": 7,
   "id": "6af9d63f",
   "metadata": {},
   "outputs": [],
   "source": [
    "pr=predict(model, './data/asl-alphabet/asl_alphabet_test/M_test.jpg')"
   ]
  },
  {
   "cell_type": "code",
   "execution_count": 8,
   "id": "83786727",
   "metadata": {},
   "outputs": [
    {
     "data": {
      "text/plain": [
       "12"
      ]
     },
     "execution_count": 8,
     "metadata": {},
     "output_type": "execute_result"
    }
   ],
   "source": [
    "np.argmax(pr)"
   ]
  },
  {
   "cell_type": "code",
   "execution_count": 10,
   "id": "e6183185",
   "metadata": {},
   "outputs": [
    {
     "data": {
      "text/plain": [
       "'M'"
      ]
     },
     "execution_count": 10,
     "metadata": {},
     "output_type": "execute_result"
    }
   ],
   "source": [
    "classes = np.array(['A', 'B', 'C', 'D', 'E', 'F', 'G', 'H', 'I', 'J', 'K', 'L', 'M', \n",
    "                       'N', 'O', 'P', 'Q', 'R', 'S', 'T', 'U', 'V', 'W', 'X', 'Y', 'Z',\n",
    "                       'del', 'nothing', 'space'])\n",
    "classes[np.argmax(pr)]"
   ]
  },
  {
   "cell_type": "code",
   "execution_count": null,
   "id": "44f4ee73",
   "metadata": {},
   "outputs": [],
   "source": []
  }
 ],
 "metadata": {
  "kernelspec": {
   "display_name": "Python 3",
   "language": "python",
   "name": "python3"
  },
  "language_info": {
   "codemirror_mode": {
    "name": "ipython",
    "version": 3
   },
   "file_extension": ".py",
   "mimetype": "text/x-python",
   "name": "python",
   "nbconvert_exporter": "python",
   "pygments_lexer": "ipython3",
   "version": "3.9.4"
  }
 },
 "nbformat": 4,
 "nbformat_minor": 5
}
