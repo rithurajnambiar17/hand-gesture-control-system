{
 "cells": [
  {
   "cell_type": "code",
   "execution_count": 1,
   "id": "c239b9cc",
   "metadata": {},
   "outputs": [],
   "source": [
    "import cv2\n",
    "import numpy as np\n",
    "from PIL import Image\n",
    "import tensorflow as tf\n",
    "from tensorflow.keras import models\n",
    "import os"
   ]
  },
  {
   "cell_type": "code",
   "execution_count": null,
   "id": "09627ce3",
   "metadata": {},
   "outputs": [
    {
     "name": "stdout",
     "output_type": "stream",
     "text": [
      "V\n",
      "V\n",
      "V\n",
      "V\n",
      "V\n",
      "V\n",
      "V\n",
      "V\n",
      "V\n",
      "V\n",
      "V\n",
      "V\n",
      "V\n",
      "V\n",
      "V\n",
      "V\n",
      "V\n",
      "V\n",
      "V\n",
      "V\n",
      "V\n",
      "V\n",
      "V\n",
      "V\n",
      "V\n",
      "V\n",
      "V\n",
      "V\n",
      "V\n",
      "V\n",
      "V\n",
      "V\n",
      "V\n",
      "V\n",
      "V\n"
     ]
    }
   ],
   "source": [
    "model = models.load_model('./Asl-Classifier2.h5')\n",
    "video = cv2.VideoCapture(0)\n",
    "\n",
    "while True:\n",
    "    ret, frame = video.read()\n",
    "    if ret:\n",
    "        im = Image.fromarray(frame, 'RGB')\n",
    "        im = im.resize((224,224))\n",
    "        img_array = np.array(im)\n",
    "        img_array = np.expand_dims(img_array, axis=0)\n",
    "        classes = np.array(['A', 'B', 'C', 'D', 'E', 'F', 'G', 'H', 'I', 'J', 'K', 'L', 'M', \n",
    "                       'N', 'O', 'P', 'Q', 'R', 'S', 'T', 'U', 'V', 'W', 'X', 'Y', 'Z',\n",
    "                       'del', 'nothing', 'space'])\n",
    "        prediction = classes[np.argmax(model.predict(img_array))]\n",
    "        cv2.imshow(\"Capturing\", frame)\n",
    "        key=cv2.waitKey(1)\n",
    "        if key == ord('q'):\n",
    "                break\n",
    "                \n",
    "        if prediction != 'nothing':\n",
    "            print(prediction)\n",
    "            if prediction == 'C':\n",
    "                application = r'C:\\Users\\ASUS\\AppData\\Roaming\\Microsoft\\Windows\\Start Menu\\Programs\\Microsoft Teams (work or school).lnk'\n",
    "                os.startfile(application)\n",
    "            elif prediction == 'V':\n",
    "                application = r\"C:\\Windows\\System32\\notepad.exe\"\n",
    "                os.startfile(application)\n",
    "            elif prediction == 'C':\n",
    "                os.startfile(application)\n",
    "    else:\n",
    "        print(\"Camera not accessible!\")\n",
    "\n",
    "video.release()\n",
    "cv2.destroyAllWindows()\n"
   ]
  },
  {
   "cell_type": "code",
   "execution_count": null,
   "id": "5bda4eb1",
   "metadata": {},
   "outputs": [],
   "source": []
  },
  {
   "cell_type": "code",
   "execution_count": null,
   "id": "45e3ebee",
   "metadata": {},
   "outputs": [],
   "source": []
  }
 ],
 "metadata": {
  "kernelspec": {
   "display_name": "Python 3",
   "language": "python",
   "name": "python3"
  },
  "language_info": {
   "codemirror_mode": {
    "name": "ipython",
    "version": 3
   },
   "file_extension": ".py",
   "mimetype": "text/x-python",
   "name": "python",
   "nbconvert_exporter": "python",
   "pygments_lexer": "ipython3",
   "version": "3.9.4"
  }
 },
 "nbformat": 4,
 "nbformat_minor": 5
}
